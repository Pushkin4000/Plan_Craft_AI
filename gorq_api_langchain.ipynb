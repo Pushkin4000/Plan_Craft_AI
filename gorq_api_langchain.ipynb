{
 "cells": [
  {
   "cell_type": "code",
   "execution_count": 13,
   "id": "171c7630",
   "metadata": {},
   "outputs": [],
   "source": [
    "import os \n",
    "import time\n",
    "os.environ['GROQ_API_KEY']=(\"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\")"
   ]
  },
  {
   "cell_type": "code",
   "execution_count": 14,
   "id": "02441d1f",
   "metadata": {},
   "outputs": [],
   "source": [
    "from langchain_groq import ChatGroq\n",
    "\n",
    "llm=ChatGroq(model=\"deepseek-r1-distill-llama-70b\",temperature=0.6,reasoning_format=\"hidden\")"
   ]
  },
  {
   "cell_type": "code",
   "execution_count": 15,
   "id": "5c092bf7",
   "metadata": {},
   "outputs": [],
   "source": [
    "from langchain.prompts import PromptTemplate\n",
    "from langchain.chains import LLMChain\n",
    "\n",
    "Poxs=PromptTemplate(\n",
    "    input_variable=[\"Technology\"],\n",
    "    template=\"Reply with only one word answer: Tell me a project name regarding {Technology}.\"\n",
    ")\n",
    "\n",
    "proj_chain= LLMChain(llm=llm,prompt=Poxs)\n",
    "\n",
    "\n",
    "Poxs2=PromptTemplate(\n",
    "    input_variable=[\"project_name\"],\n",
    "    template=\"Generate me steps to perform this {project_name} in a comma seperated list\"\n",
    ")\n",
    "\n",
    "proj_full=LLMChain(llm=llm,prompt=Poxs2)"
   ]
  },
  {
   "cell_type": "code",
   "execution_count": null,
   "id": "cd7c89b7",
   "metadata": {},
   "outputs": [
    {
     "name": "stderr",
     "output_type": "stream",
     "text": [
      "C:\\Users\\Pushkin\\AppData\\Local\\Temp\\ipykernel_14076\\504380394.py:3: LangChainDeprecationWarning: The method `Chain.run` was deprecated in langchain 0.1.0 and will be removed in 1.0. Use :meth:`~invoke` instead.\n",
      "  chain.run(\"Yolo\")\n"
     ]
    },
    {
     "data": {
      "text/plain": [
       "\"To perform YOLOvator, follow these organized steps:\\n\\n1. **Install Necessary Packages**: Install required libraries like OpenCV and numpy.\\n2. **Download Pre-trained YOLO Model**: Obtain the YOLO model weights (e.g., YOLOv3, YOLOv4).\\n3. **Download Configuration Files**: Get the .cfg and .names files for the model.\\n4. **Load Input Image**: Read the input image using OpenCV.\\n5. **Resize Image (if needed)**: Adjust image size to fit the model's input requirements.\\n6. **Convert Weights (if needed)**: Convert model weights to a compatible format for your framework.\\n7. **Load YOLO Model**: Initialize the YOLO model with the configuration and weights.\\n8. **Detect Objects**: Use the model to detect objects in the image.\\n9. **Parse Predictions**: Extract bounding boxes, class IDs, and confidence scores.\\n10. **Filter Predictions**: Apply a confidence threshold to filter out weak detections.\\n11. **Draw Bounding Boxes**: Overlay boxes on the image with class labels and confidence scores.\\n12. **Display Output**: Show the final image with all detections.\\n\\nThis sequence should effectively implement YOLO-based object detection, assuming YOLOvator refers to a YOLO implementation.\""
      ]
     },
     "execution_count": 17,
     "metadata": {},
     "output_type": "execute_result"
    }
   ],
   "source": [
    "# from langchain.chains import SimpleSequentialChain\n",
    "# chain=SimpleSequentialChain(chains=[proj_chain, proj_full])\n",
    "# chain.run(\"Yolo\")"
   ]
  },
  {
   "cell_type": "code",
   "execution_count": 30,
   "id": "f53b3171",
   "metadata": {},
   "outputs": [],
   "source": [
    "from langchain.prompts import PromptTemplate\n",
    "from langchain.chains import LLMChain\n",
    "\n",
    "Poxs=PromptTemplate(\n",
    "    input_variable=[\"Technology\"],\n",
    "    template=\"Reply with only one word answer: Tell me a project name regarding {Technology}.\"\n",
    ")\n",
    "\n",
    "proj_chain= LLMChain(llm=llm,prompt=Poxs,output_key=\"project_name\")\n",
    "\n",
    "\n",
    "Poxs2=PromptTemplate(\n",
    "    input_variable=[\"project_name\"],\n",
    "    template=\"Generate me steps to perform this {project_name} in a comma seperated list\"\n",
    ")\n",
    "\n",
    "proj_full=LLMChain(llm=llm,prompt=Poxs2,output_key=\"Procedure\")"
   ]
  },
  {
   "cell_type": "code",
   "execution_count": 31,
   "id": "f201e3c4",
   "metadata": {},
   "outputs": [
    {
     "name": "stderr",
     "output_type": "stream",
     "text": [
      "C:\\Users\\Pushkin\\AppData\\Local\\Temp\\ipykernel_14076\\2172223263.py:9: LangChainDeprecationWarning: The method `Chain.__call__` was deprecated in langchain 0.1.0 and will be removed in 1.0. Use :meth:`~invoke` instead.\n",
      "  chain(\"LSTM\")\n"
     ]
    },
    {
     "data": {
      "text/plain": [
       "{'Technology': 'LSTM',\n",
       " 'project_name': 'LSTMAnalyzer',\n",
       " 'Procedure': \"Sure! Here's a comma-separated list of steps to perform an LSTM analysis using LSTMAnalyzer:\\n\\n1. Install the LSTMAnalyzer library,  \\n2. Import the necessary libraries (e.g., LSTMAnalyzer, pandas, numpy, etc.),  \\n3. Load and preprocess your dataset,  \\n4. Split the data into training and testing sets,  \\n5. Build and train your LSTM model,  \\n6. Use LSTMAnalyzer to generate explanations for your LSTM model's predictions,  \\n7. Analyze feature importance using the analyzer,  \\n8. Extract and visualize temporal patterns from the model,  \\n9. Generate and review attention weights for sequence data,  \\n10. Save the analysis results for further review or reporting.  \\n\\nLet me know if you'd like more detailed instructions!\"}"
      ]
     },
     "execution_count": 31,
     "metadata": {},
     "output_type": "execute_result"
    }
   ],
   "source": [
    "from langchain.chains import SequentialChain\n",
    "\n",
    "chain = SequentialChain(\n",
    "    chains =[proj_chain,proj_full],\n",
    "    input_variables=[\"Technology\"],\n",
    "    output_variables=[\"project_name\",\"Procedure\"]\n",
    ")\n",
    "\n",
    "chain(\"LSTM\")"
   ]
  }
 ],
 "metadata": {
  "kernelspec": {
   "display_name": ".venv (3.13.1)",
   "language": "python",
   "name": "python3"
  },
  "language_info": {
   "codemirror_mode": {
    "name": "ipython",
    "version": 3
   },
   "file_extension": ".py",
   "mimetype": "text/x-python",
   "name": "python",
   "nbconvert_exporter": "python",
   "pygments_lexer": "ipython3",
   "version": "3.13.1"
  }
 },
 "nbformat": 4,
 "nbformat_minor": 5
}
