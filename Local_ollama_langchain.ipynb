{
 "cells": [
  {
   "cell_type": "code",
   "execution_count": null,
   "id": "595d61bf",
   "metadata": {},
   "outputs": [],
   "source": [
    "from langchain_ollama import ChatOllama\n",
    "llm=ChatOllama(model=\"hf.co/unsloth/Qwen2.5-Omni-3B-GGUF:Q2_K_XL\")\n"
   ]
  },
  {
   "cell_type": "code",
   "execution_count": 8,
   "id": "fb609a72",
   "metadata": {},
   "outputs": [],
   "source": [
    "from langchain.prompts import PromptTemplate\n",
    "dox=PromptTemplate(\n",
    "    input_variable=[\"country\"],\n",
    "    template=\"Give me top 5 places to visit from this {country}\"\n",
    ")\n"
   ]
  },
  {
   "cell_type": "code",
   "execution_count": 12,
   "id": "6d11b1b7",
   "metadata": {},
   "outputs": [
    {
     "data": {
      "text/plain": [
       "'Sure, here are a few top spots to consider:\\n\\n* **India: Golden Temple**: Located in Amritsar and a major tourist attraction.\\n\\n* **India: Taj Mahal Palace Hotel**: Located in Jaipur and one of the most luxurious hotels worldwide. Offers a unique blend of elegance and comfort.\\n\\n* **India: Mysore City Tour**: Located in Mysore and one of the most popular tourist destinations in India.\\n\\n* **India: Rishikesh**: Located in Himachal Pradesh and known for trekking, adventure activities, yoga centers, cultural tourism, and more. Great for adventure seekers.\\n\\n* **India: Shimla Tourism & Adventure Centre**: Located in Himachal Pradesh and one of the most popular tourist destinations in India. Provides various adventure activities like trekking, adventure sports, etc.'"
      ]
     },
     "execution_count": 12,
     "metadata": {},
     "output_type": "execute_result"
    }
   ],
   "source": [
    "from langchain.chains import LLMChain\n",
    "\n",
    "chians=LLMChain(llm=llm, prompt=dox)\n",
    "chians.run(\"india\")"
   ]
  },
  {
   "cell_type": "code",
   "execution_count": null,
   "id": "c12cb752",
   "metadata": {},
   "outputs": [],
   "source": []
  }
 ],
 "metadata": {
  "kernelspec": {
   "display_name": ".venv (3.13.1)",
   "language": "python",
   "name": "python3"
  },
  "language_info": {
   "codemirror_mode": {
    "name": "ipython",
    "version": 3
   },
   "file_extension": ".py",
   "mimetype": "text/x-python",
   "name": "python",
   "nbconvert_exporter": "python",
   "pygments_lexer": "ipython3",
   "version": "3.13.1"
  }
 },
 "nbformat": 4,
 "nbformat_minor": 5
}
